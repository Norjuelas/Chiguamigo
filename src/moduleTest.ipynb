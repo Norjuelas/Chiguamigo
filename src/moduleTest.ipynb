{
 "cells": [
  {
   "cell_type": "code",
   "execution_count": 10,
   "metadata": {},
   "outputs": [],
   "source": [
    "import google.generativeai as genai"
   ]
  },
  {
   "cell_type": "code",
   "execution_count": 12,
   "metadata": {},
   "outputs": [
    {
     "name": "stderr",
     "output_type": "stream",
     "text": [
      "<>:1: SyntaxWarning: invalid escape sequence '\\P'\n",
      "<>:1: SyntaxWarning: invalid escape sequence '\\P'\n",
      "C:\\Users\\nicor\\AppData\\Local\\Temp\\ipykernel_17500\\2780760321.py:1: SyntaxWarning: invalid escape sequence '\\P'\n",
      "  def cargar_api_key(archivo='D:\\Proyectos\\hackatonCiberpaz\\Chiguamigo\\key\\googleKey.txt'):\n"
     ]
    }
   ],
   "source": [
    "def cargar_api_key(archivo='D:\\Proyectos\\hackatonCiberpaz\\Chiguamigo\\key\\googleKey.txt'):\n",
    "    with open(archivo, 'r') as f:\n",
    "        lineas = f.readlines()\n",
    "        for linea in lineas:\n",
    "            if linea.startswith('API_KEY'):\n",
    "                return linea.split('=')[1].strip()  # Devuelve la clave sin espacios\n",
    "\n",
    "api_key = cargar_api_key()\n",
    " "
   ]
  },
  {
   "cell_type": "code",
   "execution_count": null,
   "metadata": {},
   "outputs": [],
   "source": [
    "GOOGLE_API_KEY=api_key\n",
    "\n",
    "genai.configure(api_key=GOOGLE_API_KEY)\n",
    "model=genai.GenerativeModel('gemini-1.5-flash')\n",
    "response = model.generate_content(\"Hola\")\n",
    "print(response.text)"
   ]
  }
 ],
 "metadata": {
  "kernelspec": {
   "display_name": "venv",
   "language": "python",
   "name": "python3"
  },
  "language_info": {
   "codemirror_mode": {
    "name": "ipython",
    "version": 3
   },
   "file_extension": ".py",
   "mimetype": "text/x-python",
   "name": "python",
   "nbconvert_exporter": "python",
   "pygments_lexer": "ipython3",
   "version": "3.13.0"
  }
 },
 "nbformat": 4,
 "nbformat_minor": 2
}
