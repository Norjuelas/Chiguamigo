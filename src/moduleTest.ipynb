{
 "cells": [
  {
   "cell_type": "code",
   "execution_count": 5,
   "metadata": {},
   "outputs": [
    {
     "name": "stderr",
     "output_type": "stream",
     "text": [
      "d:\\Proyectos\\hackatonCiberpaz\\Chiguamigo\\venv\\Lib\\site-packages\\tqdm\\auto.py:21: TqdmWarning: IProgress not found. Please update jupyter and ipywidgets. See https://ipywidgets.readthedocs.io/en/stable/user_install.html\n",
      "  from .autonotebook import tqdm as notebook_tqdm\n"
     ]
    }
   ],
   "source": [
    "import google.generativeai as genai"
   ]
  },
  {
   "cell_type": "code",
   "execution_count": 6,
   "metadata": {},
   "outputs": [],
   "source": [
    "def cargar_api_key(archivo='D:\\\\Proyectos\\\\hackatonCiberpaz\\\\Chiguamigo\\\\key\\\\googleKey.txt'):\n",
    "    with open(archivo, 'r') as f:\n",
    "        lineas = f.readlines()\n",
    "        for linea in lineas:\n",
    "            if linea.startswith('API_KEY'):\n",
    "                return linea.split('=')[1].strip()  # Devuelve la clave sin espacios\n",
    "\n",
    "api_key = cargar_api_key()\n",
    " "
   ]
  },
  {
   "cell_type": "code",
   "execution_count": 8,
   "metadata": {},
   "outputs": [
    {
     "name": "stdout",
     "output_type": "stream",
     "text": [
      "En el idioma Kogui, la forma más respetuosa y adecuada de decir \"Hola, buen día\" es:\n",
      "\n",
      "**\"Kú'kúr ümá\"**\n",
      "\n",
      "Esto significa literalmente \"Buen día\" y es una expresión de saludo que se utiliza para mostrar respeto y amabilidad. \n",
      "\n",
      "Recuerda que los Kogui son un pueblo indígena que tiene su propio idioma y cultura, por lo que es importante ser respetuoso al interactuar con ellos.\n",
      "\n"
     ]
    }
   ],
   "source": [
    "GOOGLE_API_KEY=api_key\n",
    "\n",
    "genai.configure(api_key=GOOGLE_API_KEY)\n",
    "model=genai.GenerativeModel('gemini-1.5-flash')\n",
    "response = model.generate_content(\"actua como traductor de lengua Kogui: di Hola buen dia:\")\n",
    "print(response.text)"
   ]
  }
 ],
 "metadata": {
  "kernelspec": {
   "display_name": "venv",
   "language": "python",
   "name": "python3"
  },
  "language_info": {
   "codemirror_mode": {
    "name": "ipython",
    "version": 3
   },
   "file_extension": ".py",
   "mimetype": "text/x-python",
   "name": "python",
   "nbconvert_exporter": "python",
   "pygments_lexer": "ipython3",
   "version": "3.13.0"
  }
 },
 "nbformat": 4,
 "nbformat_minor": 2
}
